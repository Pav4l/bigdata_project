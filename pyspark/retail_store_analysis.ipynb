{
 "cells": [
  {
   "cell_type": "markdown",
   "id": "a70c474b",
   "metadata": {},
   "source": [
    "# Анализ данных retail_store_sales"
   ]
  },
  {
   "cell_type": "markdown",
   "id": "8c59ef7a",
   "metadata": {},
   "source": [
    "## 1. Загрузка и предварительная обработка данных"
   ]
  },
  {
   "cell_type": "markdown",
   "id": "78b3eb25",
   "metadata": {},
   "source": [
    "### 1.1. Загрузка и вывод схемы\n",
    "Загрузите файл retail_store_sales.csv.  Выведите первые 5 строк загруженного DataFrame и его схему (df.printSchema())."
   ]
  },
  {
   "cell_type": "code",
   "execution_count": 3,
   "id": "cb4ccb06",
   "metadata": {},
   "outputs": [
    {
     "name": "stdout",
     "output_type": "stream",
     "text": [
      "+--------------+-----------+-------------+------------+--------------+--------+-----------+--------------+--------+----------------+----------------+\n",
      "|Transaction ID|Customer ID|     Category|        Item|Price Per Unit|Quantity|Total Spent|Payment Method|Location|Transaction Date|Discount Applied|\n",
      "+--------------+-----------+-------------+------------+--------------+--------+-----------+--------------+--------+----------------+----------------+\n",
      "|   TXN_6867343|    CUST_09|   Patisserie| Item_10_PAT|          18.5|    10.0|      185.0|Digital Wallet|  Online|      2024-04-08|            true|\n",
      "|   TXN_3731986|    CUST_22|Milk Products|Item_17_MILK|          29.0|     9.0|      261.0|Digital Wallet|  Online|      2023-07-23|            true|\n",
      "|   TXN_9303719|    CUST_02|     Butchers| Item_12_BUT|          21.5|     2.0|       43.0|   Credit Card|  Online|      2022-10-05|           false|\n",
      "|   TXN_9458126|    CUST_06|    Beverages| Item_16_BEV|          27.5|     9.0|      247.5|   Credit Card|  Online|      2022-05-07|            NULL|\n",
      "|   TXN_4575373|    CUST_05|         Food| Item_6_FOOD|          12.5|     7.0|       87.5|Digital Wallet|  Online|      2022-10-02|           false|\n",
      "+--------------+-----------+-------------+------------+--------------+--------+-----------+--------------+--------+----------------+----------------+\n",
      "only showing top 5 rows\n",
      "\n",
      "root\n",
      " |-- Transaction ID: string (nullable = true)\n",
      " |-- Customer ID: string (nullable = true)\n",
      " |-- Category: string (nullable = true)\n",
      " |-- Item: string (nullable = true)\n",
      " |-- Price Per Unit: double (nullable = true)\n",
      " |-- Quantity: double (nullable = true)\n",
      " |-- Total Spent: double (nullable = true)\n",
      " |-- Payment Method: string (nullable = true)\n",
      " |-- Location: string (nullable = true)\n",
      " |-- Transaction Date: date (nullable = true)\n",
      " |-- Discount Applied: boolean (nullable = true)\n",
      "\n"
     ]
    }
   ],
   "source": [
    "from pyspark.sql import SparkSession\n",
    "from pyspark.sql.functions import (\n",
    "    col, when, round as _round, sum as _sum, mean as _mean,\n",
    "    dayofweek, month, date_format\n",
    ")\n",
    "\n",
    "spark = SparkSession.builder \\\n",
    "    .appName(\"RetailStoreSales\") \\\n",
    "    .getOrCreate()\n",
    "\n",
    "df = spark.read.csv(\"retail_store_sales.csv\", header=True, inferSchema=True)\n",
    "df.show(5)\n",
    "df.printSchema()"
   ]
  },
  {
   "cell_type": "markdown",
   "id": "693ff01d",
   "metadata": {},
   "source": [
    "### 1.2. Очистка названий столбцов\n",
    "Преобразуйте названия всех столбцов к единому регистру - snake_case.  Выведите обновленную схему DataFrame  или названия столбцов, чтобы убедиться в изменении названий."
   ]
  },
  {
   "cell_type": "code",
   "execution_count": 7,
   "id": "ac83106f",
   "metadata": {},
   "outputs": [
    {
     "name": "stdout",
     "output_type": "stream",
     "text": [
      "\n",
      "Названия столбцов после преобразования:\n",
      "['transaction_id', 'customer_id', 'category', 'item', 'price_per_unit', 'quantity', 'total_spent', 'payment_method', 'location', 'transaction_date', 'discount_applied']\n"
     ]
    }
   ],
   "source": [
    "df = df.toDF(*[c.strip().lower().replace(\" \", \"_\") for c in df.columns])\n",
    "print(\"\\nНазвания столбцов после преобразования:\")\n",
    "print(df.columns)"
   ]
  },
  {
   "cell_type": "markdown",
   "id": "8857aa05",
   "metadata": {},
   "source": [
    "### 1.3. Преобразование типов данных\n",
    "Проанализируйте к каким типам данных относятся данные в столбцах и приведите столбец к соответствующему типу. Убедитесь, что некорректные или отсутствующие значения преобразуются в null в соответствующих типах данных."
   ]
  },
  {
   "cell_type": "code",
   "execution_count": 8,
   "id": "3dd5917b",
   "metadata": {},
   "outputs": [
    {
     "name": "stdout",
     "output_type": "stream",
     "text": [
      "\n",
      "Проверка типов:\n",
      "[('transaction_id', 'string'), ('customer_id', 'string'), ('category', 'string'), ('item', 'string'), ('price_per_unit', 'double'), ('quantity', 'int'), ('total_spent', 'double'), ('payment_method', 'string'), ('location', 'string'), ('transaction_date', 'date'), ('discount_applied', 'boolean')]\n"
     ]
    }
   ],
   "source": [
    "from pyspark.sql.types import StringType, DoubleType, IntegerType, BooleanType, DateType\n",
    "\n",
    "df = df \\\n",
    "    .withColumn(\"transaction_id\", col(\"transaction_id\").cast(StringType())) \\\n",
    "    .withColumn(\"customer_id\", col(\"customer_id\").cast(StringType())) \\\n",
    "    .withColumn(\"category\", col(\"category\").cast(StringType())) \\\n",
    "    .withColumn(\"item\", col(\"item\").cast(StringType())) \\\n",
    "    .withColumn(\"price_per_unit\", col(\"price_per_unit\").cast(DoubleType())) \\\n",
    "    .withColumn(\"quantity\", col(\"quantity\").cast(IntegerType())) \\\n",
    "    .withColumn(\"total_spent\", col(\"total_spent\").cast(DoubleType())) \\\n",
    "    .withColumn(\"payment_method\", col(\"payment_method\").cast(StringType())) \\\n",
    "    .withColumn(\"location\", col(\"location\").cast(StringType())) \\\n",
    "    .withColumn(\"transaction_date\", col(\"transaction_date\").cast(DateType())) \\\n",
    "    .withColumn(\"discount_applied\",\n",
    "        when(col(\"discount_applied\") == \"True\", True)\n",
    "        .when(col(\"discount_applied\") == \"False\", False)\n",
    "        .otherwise(None)\n",
    "    )\n",
    "\n",
    "print(\"\\nПроверка типов:\")\n",
    "print(df.dtypes)"
   ]
  },
  {
   "cell_type": "markdown",
   "id": "c8f80a33",
   "metadata": {},
   "source": [
    "## 2. Очистка и валидация данных"
   ]
  },
  {
   "cell_type": "markdown",
   "id": "9585fc70",
   "metadata": {},
   "source": [
    "### 2.1. Восстановление отсутствующих item\n",
    "Так как данные статические для каждого товара, то  составьте справочник товаров в отдельный DataFrame с Category, Item и Rrice Rer Unit.\n",
    "Для транзакций, где отсутствует название товара , но имеется категория и цена , попытайтесь определить название товара, путём объединения (join) с загруженным справочником товаров. Выведите 20 строк, демонстрирующих восстановленные значения."
   ]
  },
  {
   "cell_type": "code",
   "execution_count": 9,
   "id": "957ffb5b",
   "metadata": {},
   "outputs": [
    {
     "name": "stdout",
     "output_type": "stream",
     "text": [
      "+--------------------+--------------+--------------+-----------+------------+--------+-----------+--------------+--------+----------------+----------------+------------+\n",
      "|            category|price_per_unit|transaction_id|customer_id|        item|quantity|total_spent|payment_method|location|transaction_date|discount_applied|        item|\n",
      "+--------------------+--------------+--------------+-----------+------------+--------+-----------+--------------+--------+----------------+----------------+------------+\n",
      "|          Patisserie|          18.5|   TXN_6867343|    CUST_09| Item_10_PAT|      10|      185.0|Digital Wallet|  Online|      2024-04-08|            true| Item_10_PAT|\n",
      "|       Milk Products|          29.0|   TXN_3731986|    CUST_22|Item_17_MILK|       9|      261.0|Digital Wallet|  Online|      2023-07-23|            true|Item_17_MILK|\n",
      "|            Butchers|          21.5|   TXN_9303719|    CUST_02| Item_12_BUT|       2|       43.0|   Credit Card|  Online|      2022-10-05|           false| Item_12_BUT|\n",
      "|           Beverages|          27.5|   TXN_9458126|    CUST_06| Item_16_BEV|       9|      247.5|   Credit Card|  Online|      2022-05-07|            NULL| Item_16_BEV|\n",
      "|                Food|          12.5|   TXN_4575373|    CUST_05| Item_6_FOOD|       7|       87.5|Digital Wallet|  Online|      2022-10-02|           false| Item_6_FOOD|\n",
      "|          Patisserie|          NULL|   TXN_7482416|    CUST_09|        NULL|      10|      200.0|   Credit Card|  Online|      2023-11-30|            NULL|        NULL|\n",
      "|                Food|           5.0|   TXN_3652209|    CUST_07| Item_1_FOOD|       8|       40.0|   Credit Card|In-store|      2023-06-10|            true| Item_1_FOOD|\n",
      "|           Furniture|          33.5|   TXN_1372952|    CUST_21| Item_20_FUR|    NULL|       NULL|Digital Wallet|In-store|      2024-04-02|            true| Item_20_FUR|\n",
      "|           Furniture|          27.5|   TXN_9728486|    CUST_23| Item_16_FUR|       1|       27.5|   Credit Card|In-store|      2023-04-26|           false| Item_16_FUR|\n",
      "|            Butchers|          36.5|   TXN_2722661|    CUST_25| Item_22_BUT|       3|      109.5|          Cash|  Online|      2024-03-14|           false| Item_22_BUT|\n",
      "|            Butchers|           8.0|   TXN_8776416|    CUST_22|  Item_3_BUT|       9|       72.0|          Cash|In-store|      2024-12-14|            true|  Item_3_BUT|\n",
      "|       Milk Products|          NULL|   TXN_5422631|    CUST_09|        NULL|       8|       52.0|Digital Wallet|In-store|      2025-01-12|            true|        NULL|\n",
      "|                Food|           6.5|   TXN_5874772|    CUST_23| Item_2_FOOD|       7|       45.5|          Cash|  Online|      2023-09-09|            true| Item_2_FOOD|\n",
      "|          Patisserie|          39.5|   TXN_4413070|    CUST_14| Item_24_PAT|       6|      237.0|Digital Wallet|In-store|      2022-05-20|           false| Item_24_PAT|\n",
      "|       Milk Products|          27.5|   TXN_2490363|    CUST_09|Item_16_MILK|       2|       55.0|Digital Wallet|  Online|      2022-05-22|            NULL|Item_16_MILK|\n",
      "|           Beverages|          24.5|   TXN_1809665|    CUST_14| Item_14_BEV|    NULL|       NULL|   Credit Card|In-store|      2022-05-11|            NULL| Item_14_BEV|\n",
      "|          Patisserie|          29.0|   TXN_7563311|    CUST_23| Item_17_PAT|       8|      232.0|          Cash|  Online|      2024-11-16|            true| Item_17_PAT|\n",
      "|       Milk Products|          NULL|   TXN_9634894|    CUST_15|        NULL|      10|      275.0|Digital Wallet|  Online|      2022-04-17|            NULL|        NULL|\n",
      "|Electric househol...|          23.0|   TXN_4396807|    CUST_17| Item_13_EHE|       1|       23.0|Digital Wallet|In-store|      2022-02-07|           false| Item_13_EHE|\n",
      "|           Furniture|          35.0|   TXN_4206593|    CUST_01| Item_21_FUR|    NULL|       NULL|Digital Wallet|  Online|      2025-01-13|           false| Item_21_FUR|\n",
      "+--------------------+--------------+--------------+-----------+------------+--------+-----------+--------------+--------+----------------+----------------+------------+\n",
      "only showing top 20 rows\n",
      "\n"
     ]
    }
   ],
   "source": [
    "product_ref = df.dropna(subset=[\"category\", \"item\", \"price_per_unit\"]) \\\n",
    "    .dropDuplicates([\"category\", \"price_per_unit\"]) \\\n",
    "    .select(\"category\", \"item\", \"price_per_unit\")\n",
    "\n",
    "df = df.alias(\"t\").join(\n",
    "    product_ref.alias(\"r\"),\n",
    "    on=[\"category\", \"price_per_unit\"],\n",
    "    how=\"left\"\n",
    ").withColumn(\n",
    "    \"item\",\n",
    "    when(col(\"t.item\").isNotNull(), col(\"t.item\")).otherwise(col(\"r.item\"))\n",
    ").drop(\"r.item\")\n",
    "\n",
    "df.show(20)"
   ]
  },
  {
   "cell_type": "markdown",
   "id": "3cb27f43",
   "metadata": {},
   "source": [
    "### 2.2. Восстановление Total Spent\n",
    "Найдите все транзакции, с пропусками в общей сумме и обновите ее, пересчитав её как quantity * price_per_unit для всех записей."
   ]
  },
  {
   "cell_type": "code",
   "execution_count": 14,
   "id": "eb1c15ef",
   "metadata": {},
   "outputs": [
    {
     "name": "stdout",
     "output_type": "stream",
     "text": [
      "+--------+--------------+-----------+\n",
      "|quantity|price_per_unit|total_spent|\n",
      "+--------+--------------+-----------+\n",
      "|10      |18.5          |185.0      |\n",
      "|9       |29.0          |261.0      |\n",
      "|2       |21.5          |43.0       |\n",
      "|9       |27.5          |247.5      |\n",
      "|7       |12.5          |87.5       |\n",
      "|8       |5.0           |40.0       |\n",
      "|1       |27.5          |27.5       |\n",
      "|3       |36.5          |109.5      |\n",
      "|9       |8.0           |72.0       |\n",
      "|7       |6.5           |45.5       |\n",
      "|6       |39.5          |237.0      |\n",
      "|2       |27.5          |55.0       |\n",
      "|8       |29.0          |232.0      |\n",
      "|1       |23.0          |23.0       |\n",
      "|9       |14.0          |126.0      |\n",
      "|7       |9.5           |66.5       |\n",
      "|1       |18.5          |18.5       |\n",
      "|2       |24.5          |49.0       |\n",
      "|4       |33.5          |134.0      |\n",
      "|10      |41.0          |410.0      |\n",
      "+--------+--------------+-----------+\n",
      "only showing top 20 rows\n",
      "\n"
     ]
    }
   ],
   "source": [
    "df.filter(col(\"quantity\").isNotNull() & col(\"price_per_unit\").isNotNull()) \\\n",
    "  .select(\"quantity\", \"price_per_unit\", \"total_spent\") \\\n",
    "  .show(20, truncate=False)"
   ]
  },
  {
   "cell_type": "markdown",
   "id": "fc7f2fca",
   "metadata": {},
   "source": [
    "### 2.3. Заполнение отсутствующих Quantity и Price Per Unit\n",
    "Для транзакций, где отсутствуют значения о количестве проданного товара , но имеются сумма транзакции и цена за товар , вычислите количество проданного товара и заполните пропущенные значения. Результат приведите к целому числу. \n",
    "Аналогично, если  отсутствует цена за единицу товара , но общая сумма и количество имеются, вычислите цену за единицу и заполните пропущенные значения. Округлите до двух знаков после запятой. Выведите 20 строк, демонстрирующих заполненные значения."
   ]
  },
  {
   "cell_type": "code",
   "execution_count": 15,
   "id": "634edfa1",
   "metadata": {},
   "outputs": [
    {
     "name": "stdout",
     "output_type": "stream",
     "text": [
      "+--------------------+--------------+--------------+-----------+------------+--------+-----------+--------------+--------+----------------+----------------+------------+\n",
      "|            category|price_per_unit|transaction_id|customer_id|        item|quantity|total_spent|payment_method|location|transaction_date|discount_applied|        item|\n",
      "+--------------------+--------------+--------------+-----------+------------+--------+-----------+--------------+--------+----------------+----------------+------------+\n",
      "|          Patisserie|          18.5|   TXN_6867343|    CUST_09| Item_10_PAT|      10|      185.0|Digital Wallet|  Online|      2024-04-08|            true| Item_10_PAT|\n",
      "|       Milk Products|          29.0|   TXN_3731986|    CUST_22|Item_17_MILK|       9|      261.0|Digital Wallet|  Online|      2023-07-23|            true|Item_17_MILK|\n",
      "|            Butchers|          21.5|   TXN_9303719|    CUST_02| Item_12_BUT|       2|       43.0|   Credit Card|  Online|      2022-10-05|           false| Item_12_BUT|\n",
      "|           Beverages|          27.5|   TXN_9458126|    CUST_06| Item_16_BEV|       9|      247.5|   Credit Card|  Online|      2022-05-07|            NULL| Item_16_BEV|\n",
      "|                Food|          12.5|   TXN_4575373|    CUST_05| Item_6_FOOD|       7|       87.5|Digital Wallet|  Online|      2022-10-02|           false| Item_6_FOOD|\n",
      "|          Patisserie|          20.0|   TXN_7482416|    CUST_09|        NULL|      10|      200.0|   Credit Card|  Online|      2023-11-30|            NULL|        NULL|\n",
      "|                Food|           5.0|   TXN_3652209|    CUST_07| Item_1_FOOD|       8|       40.0|   Credit Card|In-store|      2023-06-10|            true| Item_1_FOOD|\n",
      "|           Furniture|          33.5|   TXN_1372952|    CUST_21| Item_20_FUR|    NULL|       NULL|Digital Wallet|In-store|      2024-04-02|            true| Item_20_FUR|\n",
      "|           Furniture|          27.5|   TXN_9728486|    CUST_23| Item_16_FUR|       1|       27.5|   Credit Card|In-store|      2023-04-26|           false| Item_16_FUR|\n",
      "|            Butchers|          36.5|   TXN_2722661|    CUST_25| Item_22_BUT|       3|      109.5|          Cash|  Online|      2024-03-14|           false| Item_22_BUT|\n",
      "|            Butchers|           8.0|   TXN_8776416|    CUST_22|  Item_3_BUT|       9|       72.0|          Cash|In-store|      2024-12-14|            true|  Item_3_BUT|\n",
      "|       Milk Products|           6.5|   TXN_5422631|    CUST_09|        NULL|       8|       52.0|Digital Wallet|In-store|      2025-01-12|            true|        NULL|\n",
      "|                Food|           6.5|   TXN_5874772|    CUST_23| Item_2_FOOD|       7|       45.5|          Cash|  Online|      2023-09-09|            true| Item_2_FOOD|\n",
      "|          Patisserie|          39.5|   TXN_4413070|    CUST_14| Item_24_PAT|       6|      237.0|Digital Wallet|In-store|      2022-05-20|           false| Item_24_PAT|\n",
      "|       Milk Products|          27.5|   TXN_2490363|    CUST_09|Item_16_MILK|       2|       55.0|Digital Wallet|  Online|      2022-05-22|            NULL|Item_16_MILK|\n",
      "|           Beverages|          24.5|   TXN_1809665|    CUST_14| Item_14_BEV|    NULL|       NULL|   Credit Card|In-store|      2022-05-11|            NULL| Item_14_BEV|\n",
      "|          Patisserie|          29.0|   TXN_7563311|    CUST_23| Item_17_PAT|       8|      232.0|          Cash|  Online|      2024-11-16|            true| Item_17_PAT|\n",
      "|       Milk Products|          27.5|   TXN_9634894|    CUST_15|        NULL|      10|      275.0|Digital Wallet|  Online|      2022-04-17|            NULL|        NULL|\n",
      "|Electric househol...|          23.0|   TXN_4396807|    CUST_17| Item_13_EHE|       1|       23.0|Digital Wallet|In-store|      2022-02-07|           false| Item_13_EHE|\n",
      "|           Furniture|          35.0|   TXN_4206593|    CUST_01| Item_21_FUR|    NULL|       NULL|Digital Wallet|  Online|      2025-01-13|           false| Item_21_FUR|\n",
      "+--------------------+--------------+--------------+-----------+------------+--------+-----------+--------------+--------+----------------+----------------+------------+\n",
      "only showing top 20 rows\n",
      "\n"
     ]
    }
   ],
   "source": [
    "df = df.withColumn(\n",
    "    \"quantity\",\n",
    "    when(col(\"quantity\").isNull() & col(\"total_spent\").isNotNull() & col(\"price_per_unit\").isNotNull(),\n",
    "         _round(col(\"total_spent\") / col(\"price_per_unit\")).cast(IntegerType())\n",
    "    ).otherwise(col(\"quantity\"))\n",
    ")\n",
    "\n",
    "df = df.withColumn(\n",
    "    \"price_per_unit\",\n",
    "    when(col(\"price_per_unit\").isNull() & col(\"total_spent\").isNotNull() & col(\"quantity\").isNotNull(),\n",
    "         _round(col(\"total_spent\") / col(\"quantity\"), 2)\n",
    "    ).otherwise(col(\"price_per_unit\"))\n",
    ")\n",
    "\n",
    "df.show(20)\n"
   ]
  },
  {
   "cell_type": "markdown",
   "id": "23d54e74",
   "metadata": {},
   "source": [
    "### 2.4. Удаление оставшихся строк с пропусками\n",
    "Удалите оставшийся строки с пропусками в Category, Quantity ,Total Spent и Rrice Rer Unit"
   ]
  },
  {
   "cell_type": "code",
   "execution_count": 21,
   "id": "cd0308ce",
   "metadata": {},
   "outputs": [
    {
     "name": "stdout",
     "output_type": "stream",
     "text": [
      "Количество строк после очистки: 11971\n"
     ]
    }
   ],
   "source": [
    "df = df.dropna(subset=[\"category\", \"quantity\", \"total_spent\", \"price_per_unit\"])\n",
    "# количество строк после очистки\n",
    "print(f\"Количество строк после очистки: {df.count()}\")"
   ]
  },
  {
   "cell_type": "markdown",
   "id": "6a23e283",
   "metadata": {},
   "source": [
    "## 3. Разведочный анализ данных"
   ]
  },
  {
   "cell_type": "markdown",
   "id": "9ce1ef24",
   "metadata": {},
   "source": [
    "### 3.1. Самые популярные категории товаров\n",
    "Рассчитайте общее количество проданных единиц товара  для каждой категории. Определите Топ-5 категорий по общему количеству проданных единиц."
   ]
  },
  {
   "cell_type": "code",
   "execution_count": 29,
   "id": "4ad9a492",
   "metadata": {},
   "outputs": [
    {
     "data": {
      "text/plain": [
       "category\n",
       "Furniture                        8462.0\n",
       "Food                             8387.0\n",
       "Beverages                        8358.0\n",
       "Milk Products                    8339.0\n",
       "Electric household essentials    8309.0\n",
       "Name: quantity, dtype: float64"
      ]
     },
     "metadata": {},
     "output_type": "display_data"
    }
   ],
   "source": [
    "top5 = (\n",
    "    df.groupby(\"category\", dropna=False)[\"quantity\"]\n",
    "      .sum()\n",
    "      .sort_values(ascending=False)\n",
    "      .head(5)\n",
    ")\n",
    "display(top5)"
   ]
  },
  {
   "cell_type": "markdown",
   "id": "3b022ca5",
   "metadata": {},
   "source": [
    "### 3.2. Анализ среднего чека\n",
    "Рассчитайте среднее значение Total Spent для каждого метода оплаты. Округлите до двух знаков после запятой.\n",
    "Рассчитайте среднее значение Total Spent для каждой места где прошла оплата. Округлите до двух знаков после запятой."
   ]
  },
  {
   "cell_type": "code",
   "execution_count": 23,
   "id": "e63db4e8",
   "metadata": {},
   "outputs": [
    {
     "name": "stdout",
     "output_type": "stream",
     "text": [
      "+--------------+---------+\n",
      "|payment_method|avg_spent|\n",
      "+--------------+---------+\n",
      "|   Credit Card|   129.13|\n",
      "|Digital Wallet|   128.72|\n",
      "|          Cash|   131.05|\n",
      "+--------------+---------+\n",
      "\n",
      "+--------+---------+\n",
      "|location|avg_spent|\n",
      "+--------+---------+\n",
      "|In-store|   128.86|\n",
      "|  Online|   130.42|\n",
      "+--------+---------+\n",
      "\n"
     ]
    }
   ],
   "source": [
    "avg_payment = df.groupBy(\"payment_method\").agg(_round(_mean(\"total_spent\"), 2).alias(\"avg_spent\"))\n",
    "avg_location = df.groupBy(\"location\").agg(_round(_mean(\"total_spent\"), 2).alias(\"avg_spent\"))\n",
    "\n",
    "avg_payment.show()\n",
    "avg_location.show()"
   ]
  },
  {
   "cell_type": "markdown",
   "id": "9f777044",
   "metadata": {},
   "source": [
    "## 4. Генерация признаков"
   ]
  },
  {
   "cell_type": "markdown",
   "id": "1d2f1284",
   "metadata": {},
   "source": [
    "### 4.1. Временные признаки\n",
    "Добавьте два новых столбца на основе Transaction Date:\n",
    "- day_of_week: День недели\n",
    "- transaction_month: Месяц транзакции "
   ]
  },
  {
   "cell_type": "code",
   "execution_count": 27,
   "id": "c82e60e6",
   "metadata": {},
   "outputs": [
    {
     "name": "stdout",
     "output_type": "stream",
     "text": [
      "+-------------+--------------+--------------+-----------+------------+--------+-----------+--------------+--------+----------------+----------------+------------+-----------+-----------------+\n",
      "|     category|price_per_unit|transaction_id|customer_id|        item|quantity|total_spent|payment_method|location|transaction_date|discount_applied|        item|day_of_week|transaction_month|\n",
      "+-------------+--------------+--------------+-----------+------------+--------+-----------+--------------+--------+----------------+----------------+------------+-----------+-----------------+\n",
      "|   Patisserie|          18.5|   TXN_6867343|    CUST_09| Item_10_PAT|      10|      185.0|Digital Wallet|  Online|      2024-04-08|            true| Item_10_PAT|     Monday|                4|\n",
      "|Milk Products|          29.0|   TXN_3731986|    CUST_22|Item_17_MILK|       9|      261.0|Digital Wallet|  Online|      2023-07-23|            true|Item_17_MILK|     Sunday|                7|\n",
      "|     Butchers|          21.5|   TXN_9303719|    CUST_02| Item_12_BUT|       2|       43.0|   Credit Card|  Online|      2022-10-05|           false| Item_12_BUT|  Wednesday|               10|\n",
      "|    Beverages|          27.5|   TXN_9458126|    CUST_06| Item_16_BEV|       9|      247.5|   Credit Card|  Online|      2022-05-07|            NULL| Item_16_BEV|   Saturday|                5|\n",
      "|         Food|          12.5|   TXN_4575373|    CUST_05| Item_6_FOOD|       7|       87.5|Digital Wallet|  Online|      2022-10-02|           false| Item_6_FOOD|     Sunday|               10|\n",
      "+-------------+--------------+--------------+-----------+------------+--------+-----------+--------------+--------+----------------+----------------+------------+-----------+-----------------+\n",
      "only showing top 5 rows\n",
      "\n"
     ]
    }
   ],
   "source": [
    "df = df.withColumn(\"day_of_week\", date_format(col(\"transaction_date\"), \"EEEE\")) \\\n",
    "       .withColumn(\"transaction_month\", month(col(\"transaction_date\")))\n",
    "df.show(5)"
   ]
  },
  {
   "cell_type": "markdown",
   "id": "9236ef63",
   "metadata": {},
   "source": [
    "### 4.2. Продажи по дням недели\n",
    "Рассчитайте среднюю сумму продаж (Total Spent) для каждого дня недели. Выведите результаты, отсортированные по дням недели."
   ]
  },
  {
   "cell_type": "code",
   "execution_count": 28,
   "id": "57ae1c04",
   "metadata": {},
   "outputs": [
    {
     "name": "stdout",
     "output_type": "stream",
     "text": [
      "+-----------+---------+\n",
      "|day_of_week|avg_spent|\n",
      "+-----------+---------+\n",
      "|  Wednesday|   126.82|\n",
      "|    Tuesday|   129.51|\n",
      "|     Friday|   134.64|\n",
      "|   Thursday|   129.28|\n",
      "|   Saturday|   131.49|\n",
      "|     Monday|   125.57|\n",
      "|     Sunday|   130.18|\n",
      "+-----------+---------+\n",
      "\n"
     ]
    }
   ],
   "source": [
    "avg_weekday = df.groupBy(\"day_of_week\").agg(_round(_mean(\"total_spent\"), 2).alias(\"avg_spent\"))\n",
    "avg_weekday.show()"
   ]
  },
  {
   "cell_type": "markdown",
   "id": "c392ebc2",
   "metadata": {},
   "source": [
    "### 4.3. Продажи по месяцам\n",
    "Рассчитайте среднюю сумму продаж (Total Spent)  для каждого месяца. Выведите результаты, отсортированные по месяцам."
   ]
  },
  {
   "cell_type": "code",
   "execution_count": 29,
   "id": "a6539102",
   "metadata": {},
   "outputs": [
    {
     "name": "stdout",
     "output_type": "stream",
     "text": [
      "+-----------------+---------+\n",
      "|transaction_month|avg_spent|\n",
      "+-----------------+---------+\n",
      "|                1|   134.69|\n",
      "|                2|   130.66|\n",
      "|                3|   126.83|\n",
      "|                4|   131.81|\n",
      "|                5|    127.4|\n",
      "|                6|   130.95|\n",
      "|                7|   126.57|\n",
      "|                8|   124.28|\n",
      "|                9|   131.45|\n",
      "|               10|   127.85|\n",
      "|               11|   128.79|\n",
      "|               12|   133.15|\n",
      "+-----------------+---------+\n",
      "\n"
     ]
    }
   ],
   "source": [
    "avg_month = df.groupBy(\"transaction_month\").agg(_round(_mean(\"total_spent\"), 2).alias(\"avg_spent\")) \\\n",
    "    .orderBy(\"transaction_month\")\n",
    "avg_month.show()"
   ]
  },
  {
   "cell_type": "markdown",
   "id": "364b097e",
   "metadata": {},
   "source": [
    "### 4.4. Признаки клиента (CLV)\n",
    "Рассчитайте customer_lifetime_value (CLV) для каждого клиента как общую сумму (Total Spent), потраченную этим клиентом за все транзакции. Выведите Топ-10 клиентов по их CLV (customer_id и их CLV)."
   ]
  },
  {
   "cell_type": "code",
   "execution_count": 30,
   "id": "15af5553",
   "metadata": {},
   "outputs": [
    {
     "name": "stdout",
     "output_type": "stream",
     "text": [
      "+-----------+-------+\n",
      "|customer_id|    clv|\n",
      "+-----------+-------+\n",
      "|    CUST_24|68452.0|\n",
      "|    CUST_08|67351.5|\n",
      "|    CUST_05|66974.5|\n",
      "|    CUST_16|65570.5|\n",
      "|    CUST_13|65037.0|\n",
      "|    CUST_23|64507.0|\n",
      "|    CUST_10|63155.5|\n",
      "|    CUST_15|63117.5|\n",
      "|    CUST_21|62933.0|\n",
      "|    CUST_02|62046.5|\n",
      "+-----------+-------+\n",
      "\n"
     ]
    }
   ],
   "source": [
    "clv = df.groupBy(\"customer_id\").agg(_sum(\"total_spent\").alias(\"clv\")) \\\n",
    "    .orderBy(col(\"clv\").desc()).limit(10)\n",
    "clv.show()"
   ]
  }
 ],
 "metadata": {
  "kernelspec": {
   "display_name": "Python 3 (ipykernel)",
   "language": "python",
   "name": "python3"
  },
  "language_info": {
   "codemirror_mode": {
    "name": "ipython",
    "version": 3
   },
   "file_extension": ".py",
   "mimetype": "text/x-python",
   "name": "python",
   "nbconvert_exporter": "python",
   "pygments_lexer": "ipython3",
   "version": "3.12.10"
  }
 },
 "nbformat": 4,
 "nbformat_minor": 5
}
